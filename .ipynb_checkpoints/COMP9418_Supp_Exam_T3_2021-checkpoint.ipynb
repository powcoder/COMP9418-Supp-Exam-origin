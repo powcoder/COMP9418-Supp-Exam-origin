{
 "cells": [
  {
   "cell_type": "markdown",
   "metadata": {},
   "source": [
    "# T3-2021 Supplementary Exam\n",
    "\n",
    "**COMP9418 - Advanced Topics in Statistical Machine Learning**\n",
    "\n",
    "**University of New South Wales**\n",
    "\n",
    "**12th January, 2022**\n",
    "\n",
    "---"
   ]
  },
  {
   "cell_type": "markdown",
   "metadata": {},
   "source": [
    "Before proceeding, please read and acknowledge the following (double-click on this cell and put an `X` between the brackets `[X]`):\n",
    "    \n",
    "- [ ] I acknowledge that I will complete all of the work I submit for this exam without assistance from anyone else."
   ]
  },
  {
   "cell_type": "markdown",
   "metadata": {},
   "source": [
    "---\n",
    "## Instructions\n",
    "\n",
    "1. This exam will last for 10 hours, starting 12/1/2022 at 09:00:00 AEDT and ending 12/1/2022 at 19:00:00 AEDT.\n",
    "2. Questions will be answered from 9 am to 7 pm AEDT. \n",
    "3. You must provide all answers in this Jupyter notebook. \n",
    "4. You must use the cells provided to answer the questions. Use markdown cells for textual answers and code cells for programming answers.\n",
    "5. Submit this exam by give (command line or WebCMS) before the deadline. If WebCMS submission is slow, or if you are submitting in the last hour, please submit using the give command on the CSE servers (via VLAB or ssh).\n",
    "6. The exam has three parts: Multiple choice questions (20%); Questions that require a textual answer (50%); and, programming questions in Python (30%).\n",
    "7. This exam is an open book exam. You are permitted to access papers and books as well as the course materials, including slides and solved tutorials. \n",
    "8. You are not permitted to communicate (email, phone, message, talk, etc.) with anyone during the exam, except COMP9418 staff via email or forum.\n",
    "9. Do not communicate your exam answers after you finish your exam. Some students may have extended time to complete the exam.\n",
    "10. Do not place your exam work in any location accessible to any other person, such as  Dropbox and Github.\n",
    "11. Ensure that no other person in your household can access your work.\n",
    "12. Do not disclose your zpass to any other person. If you have revealed your zpass, you should change it immediately.\n",
    "13. We will refer deliberate violations of exam conditions to Student Integrity as serious misconduct. \n",
    "14. This exam has ten questions. The total number of marks is 100.\n",
    "15. **Type your student number and name on the next cell.**\n",
    "---"
   ]
  },
  {
   "cell_type": "markdown",
   "metadata": {},
   "source": [
    "## Student identification\n",
    "\n",
    "**Name:**\n",
    "\n",
    "**Student ID:**\n",
    "\n",
    "---"
   ]
  },
  {
   "cell_type": "code",
   "execution_count": null,
   "metadata": {},
   "outputs": [],
   "source": [
    "from math import log\n",
    "from itertools import product, combinations, permutations\n",
    "from DiscreteFactors import Factor\n",
    "from Graph import Graph\n",
    "from BayesNet import BayesNet"
   ]
  },
  {
   "cell_type": "markdown",
   "metadata": {},
   "source": [
    "# Part 1 [20 marks]\n",
    "\n",
    "Part 1 is composed of four multiple-choice questions of five marks each. To answer each question, double-click the cell with the alternatives and write an `X` between the `[ ]` of the chosen option.\n",
    "\n",
    "This is an example before inserting `X`\n",
    "\n",
    "1. [ ] Alternative one\n",
    "2. [ ] Alternative two\n",
    "\n",
    "This is an example after inserting `X`\n",
    "\n",
    "1. [X] Alternative one\n",
    "2. [ ] Alternative two\n",
    "\n",
    "For all four questions, choose only one among the alternatives."
   ]
  },
  {
   "cell_type": "markdown",
   "metadata": {},
   "source": [
    "---\n",
    "\n",
    "### Question 1 [5 marks]"
   ]
  },
  {
   "cell_type": "markdown",
   "metadata": {},
   "source": [
    "Given a probability distribution $P$ over a set of variables $\\textbf{X}$. Identify a DAG $G_D$ that is a D-MAP for $P$ and a graph $G_I$ that is an I-MAP for $P$. Both $G_D$ and $G_I$ have one node corresponding to each variable in $\\textbf{X}$, and the edges are defined as:"
   ]
  },
  {
   "cell_type": "markdown",
   "metadata": {},
   "source": [
    "1. [ ] $G_D$ is a DAG with the maximum number of edges, and $G_I$ is a DAG with no edges.\n",
    "2. [ ] $G_D$ is a DAG with no edges, and $G_I$ is a DAG with the maximum number of edges.\n",
    "3. [ ] $G_I$ is DAG with the maximum number of edges, and $G_D$ does not exist.\n",
    "4. [ ] $G_I$ is a DAG with no edges, and $G_D$ does not exist.\n",
    "5. [ ] Neither $G_D$ or $G_I$ exist."
   ]
  },
  {
   "cell_type": "markdown",
   "metadata": {},
   "source": [
    "---\n",
    "\n",
    "### Question 2 [5 marks]\n",
    "\n"
   ]
  },
  {
   "cell_type": "markdown",
   "metadata": {},
   "source": [
    "Suppose we have a Bayesian network $G$ that contains a node with $k$ parents. What can we say about the width of every complete elimination order for the variables in $G$?"
   ]
  },
  {
   "cell_type": "markdown",
   "metadata": {},
   "source": [
    "1. [ ] The elimination orders have width of at least $k$.\n",
    "2. [ ] The elimination orders have width equal to $k$.\n",
    "3. [ ] The elimination orders have width of at most $k$.\n",
    "4. [ ] The elimination orders have width of at least $k + 1$.\n",
    "5. [ ] None of the above alternatives."
   ]
  },
  {
   "cell_type": "markdown",
   "metadata": {},
   "source": [
    "---\n",
    "\n",
    "### Question 3 [5 marks]"
   ]
  },
  {
   "cell_type": "markdown",
   "metadata": {},
   "source": [
    "Choose the **incorrect** alternative regarding the differences between Belief Propagation (BP), Iterative Belief Propagation (IBP - also known as Loopy Belief Propagation) and Generalized Belief Propagation (GBP - also known as Iterative Joingraph Propagation):"
   ]
  },
  {
   "cell_type": "markdown",
   "metadata": {},
   "source": [
    "1. [ ] BP is restricted to polytrees while IBP and GBP can be applied to general networks.\n",
    "2. [ ] In BP, there is always a root or leaf node with a single neighbour that we can use to start to send messages. In IBP and GPB, such nodes may not exist. However, we initialize all messages with a value, so all nodes are allowed to send an initial message.\n",
    "3. [ ] BP provides exact results, that is, the computed marginals (beliefs) are correct. IBP and GBP do not have the same guarantees, and the beliefs are usually approximations.\n",
    "4. [ ] BP converges in a single iteration. IBP and GBP need a convergence criterium, so these methods iterate until such criterium is met.\n",
    "5. [ ] When sending a message from a node *X* to a node *Y*, BP *X*'s message is the multiplication of incoming messages from all neighbours of *X* by the factors associated with *X*. In the case of evidence, it also multiplies by the evidence indicator associated with *X*."
   ]
  },
  {
   "cell_type": "markdown",
   "metadata": {},
   "source": [
    "---\n",
    "\n",
    "### Question 4 [5 marks]"
   ]
  },
  {
   "cell_type": "markdown",
   "metadata": {},
   "source": [
    "Given the following Markov network $G$:\n",
    "\n",
    "![Markov net question 4](images/Question4.png)\n",
    "\n",
    "Which factorization is **not** valid for $G$?"
   ]
  },
  {
   "cell_type": "markdown",
   "metadata": {},
   "source": [
    "1. [ ] $\\phi(X_1, X_2, X_3)\\phi(X_1, X_3, X_4)\\phi(X_3,X_4,X_5)\\phi(X_2,X_3,X_5)$.\n",
    "2. [ ] $\\phi(X_1, X_2)\\phi(X_1, X_3)\\phi(X_2, X_3)\\phi(X_1, X_3, X_4)\\phi(X_3,X_4,X_5)\\phi(X_2,X_3,X_5)$.\n",
    "3. [ ] $\\phi(X_1, X_2, X_3, X_4)\\phi(X_2, X_3, X_4, X_5)$.\n",
    "4. [ ] $\\phi(X_1, X_2, X_3, X_5)\\phi(X_1, X_3, X_4, X_5)$.\n",
    "5. [ ] All factorizations above are valid."
   ]
  },
  {
   "cell_type": "markdown",
   "metadata": {},
   "source": [
    "---\n",
    "\n",
    "# Part 2 [50 marks]\n",
    "\n",
    "Part 2 is composed of four open questions. To answer each question, edit the markdown cell after the question statement and insert your answer."
   ]
  },
  {
   "cell_type": "markdown",
   "metadata": {},
   "source": [
    "---\n",
    "\n",
    "### Question 5 [10 marks]"
   ]
  },
  {
   "cell_type": "markdown",
   "metadata": {},
   "source": [
    "The degeneracy of an undirected graph $G$ is defined as the maximum degree attained by any of the subgraphs of $G$. Degeneracy is a lower-bound for the treewidth of $G$. \n",
    "\n",
    "Show that the degeneracy can be computed by generating a sequence of subgraphs, starting with $G$, and then generating the next subgraph by removing a minimum-degree node. The degeneracy is then the maximum degree attained by any of the generated subgraphs."
   ]
  },
  {
   "cell_type": "markdown",
   "metadata": {},
   "source": [
    "**Your answer for Q5**"
   ]
  },
  {
   "cell_type": "markdown",
   "metadata": {},
   "source": [
    "---\n",
    "\n",
    "### Question 6 [10 marks]"
   ]
  },
  {
   "cell_type": "markdown",
   "metadata": {},
   "source": [
    "Consider a cluster sequence $\\textbf{C}_1, \\ldots, \\textbf{C}_n$ induced by an elimination order $\\pi$ on graph $G$. Explain why it is impossible for a cluster $\\textbf{C}_i$ to be contained in another cluster $\\textbf{C}_j$ that follows in the sequence ($j > i$). However, it is possible that a cluster  $\\textbf{C}_i$ to be contained in an earlier cluster $\\textbf{C}_j$ ($j < i$)."
   ]
  },
  {
   "cell_type": "markdown",
   "metadata": {},
   "source": [
    "**Your answer for Q6**"
   ]
  },
  {
   "cell_type": "markdown",
   "metadata": {},
   "source": [
    "---\n",
    "\n",
    "### Question 7 [10 marks]"
   ]
  },
  {
   "cell_type": "markdown",
   "metadata": {},
   "source": [
    "Suppose that we have a jointree with $n$ clusters and width $w$. Show how a MAP quey can be solved in $O(n \\exp(w))$ time and space if all MAP variables are contained in some jointree cluster."
   ]
  },
  {
   "cell_type": "markdown",
   "metadata": {},
   "source": [
    "**Your answer for Q7**"
   ]
  },
  {
   "cell_type": "markdown",
   "metadata": {},
   "source": [
    "---\n",
    "\n",
    "### Question 8 [20 marks]"
   ]
  },
  {
   "cell_type": "markdown",
   "metadata": {},
   "source": [
    "We can detect the presence of the SARS-CoV-2 virus using two types of tests: Antigen and PCR. The most relevant difference between these tests is that PCR amplifies the genetic material; therefore, it can detect even the smallest amount of coronavirus material in a sample. PCR tests have a true-positive rate (TPR) of 95% and a true-negative rate (TNR) of 99%. \n",
    "\n",
    "Antigen tests do not amplify the genetic material and are sensitive to the virus load in the body. The antigen test has a TNR of 99%, a TPR of 75% for low virus load patients, and a TPR of 93% for high virus load patients.\n",
    "\n",
    "What is the probability that the same patient gets different results from the antigen and a PCR test? Assume that 10% of the tested population has the SARS-CoV-2 virus, 40% with low virus load and 60% with high virus load.\n",
    "\n",
    "1. [**5 Marks**] Show a Bayesian network structure (graph) for this problem. \n",
    "2. [**5 Marks**] **Briefly** explain your network.\n",
    "3. [**5 Marks**] Show the outcome space and network conditional probability tables (CPTs) for all variables. If any information is missing, assume a uniform distribution.\n",
    "4. [**5 Marks**] What is the answer to this question? Solve it as a programming exercise, i.e., provide a program that computes the solution."
   ]
  },
  {
   "cell_type": "code",
   "execution_count": null,
   "metadata": {},
   "outputs": [],
   "source": [
    "# Your answer for 8.1 - Bayesian network structure\n",
    "\n",
    "# Define your graph here\n",
    "G = Graph({\n",
    "    ... # TODO\n",
    "})\n",
    "\n",
    "G.show()"
   ]
  },
  {
   "cell_type": "markdown",
   "metadata": {},
   "source": [
    "**Your answer for 8.2**\n",
    "\n",
    "... TODO"
   ]
  },
  {
   "cell_type": "code",
   "execution_count": null,
   "metadata": {},
   "outputs": [],
   "source": [
    "# Your answer for 8.3\n",
    "\n",
    "# Define the outcome space here \n",
    "\n",
    "outcomeSpace = dict(\n",
    "    ... # TODO\n",
    ")\n",
    "\n",
    "# Define the factors here \n",
    "\n",
    "factors = dict()\n",
    "\n",
    "... # TODO\n",
    "\n",
    "BN = BayesNet(G, outcomeSpace, factors)"
   ]
  },
  {
   "cell_type": "markdown",
   "metadata": {},
   "source": [
    "**Your answer for 8.4**\n",
    "\n",
    "... TODO"
   ]
  },
  {
   "cell_type": "markdown",
   "metadata": {},
   "source": [
    "---\n",
    "\n",
    "# Part 3 [30 marks]\n",
    "\n",
    "Part 3 is composed of two programming questions of 15 marks each. Use the code cell after each question statement to enter your answer. You can use the code of the tutorials in your answers."
   ]
  },
  {
   "cell_type": "markdown",
   "metadata": {},
   "source": [
    "---\n",
    "\n",
    "### Question 9 [15 marks]"
   ]
  },
  {
   "cell_type": "markdown",
   "metadata": {},
   "source": [
    "A central component of learning structures from data is the computation of the log-likelihood functions for a Bayesian network $G$ and a dataset $D$. An important result is that such log-likelihood corresponds to a sum of terms, one for each family in the network:\n",
    "\n",
    "$$LL(G;D)=-N \\sum_{X\\textbf{U}} H_D(X|\\textbf{U})$$\n",
    "\n",
    "where $H_D(X|\\textbf{U})$ is the conditional entropy for the family $X\\textbf{U}$.\n",
    "\n",
    "Implement a Python function `LL(BN, dataset)` that computes the log-likelihood of a Bayesian network $BN$ using the dataset `dataset`. Define an intermediate function `entropy(BN, X, dataset)` that computes the entropy for the family of variable `X`."
   ]
  },
  {
   "cell_type": "code",
   "execution_count": null,
   "metadata": {},
   "outputs": [],
   "source": [
    "# Your answer for Question 9\n",
    "\n",
    "def entropy(BN, X, examples):\n",
    "    ... # TODO\n",
    "    \n",
    "def LL(BN, examples):\n",
    "    ... # TODO"
   ]
  },
  {
   "cell_type": "code",
   "execution_count": null,
   "metadata": {},
   "outputs": [],
   "source": [
    "############\n",
    "# Test code\n",
    "\n",
    "G = Graph({\n",
    "    'A': ['B'],\n",
    "    'B': ['E'],\n",
    "    'C': ['E', 'F'],\n",
    "    'D': ['G'],\n",
    "    'E': ['G', 'H'],\n",
    "    'F': [],\n",
    "    'G': ['I'],\n",
    "    'H': [],\n",
    "    'I': [],\n",
    "})\n",
    "\n",
    "outcomeSpace = dict(\n",
    "    A=(0,1),\n",
    "    B=(0,1),\n",
    "    C=(0,1),\n",
    "    D=(0,1),\n",
    "    E=(0,1),\n",
    "    F=(0,1),\n",
    "    G=(0,1),\n",
    "    H=(0,1),\n",
    "    I=(0,1),\n",
    ")\n",
    "\n",
    "factors = dict()\n",
    "\n",
    "A = Factor(('A'), outcomeSpace)\n",
    "A[0] = .8\n",
    "A[1] = .2\n",
    "factors['A'] = A\n",
    "\n",
    "B = Factor(('A', 'B'), outcomeSpace)\n",
    "B[0, 0] = .95\n",
    "B[0, 1] = .05\n",
    "B[1, 0] = .8\n",
    "B[1, 1] = .2\n",
    "factors['B'] = B\n",
    "\n",
    "C = Factor(('C'), outcomeSpace)\n",
    "C[0] = .5\n",
    "C[1] = .5\n",
    "factors['C'] = C\n",
    "\n",
    "D = Factor(('D'), outcomeSpace)\n",
    "D[0] = .4\n",
    "D[1] = .6\n",
    "factors['D'] = D\n",
    "\n",
    "E = Factor(('B', 'C', 'E'), outcomeSpace)\n",
    "E[0, 0, 0] = .05\n",
    "E[0, 0, 1] = .95\n",
    "E[0, 1, 0] = .99\n",
    "E[0, 1, 1] = .01\n",
    "E[1, 0, 0] = .8\n",
    "E[1, 0, 1] = .2\n",
    "E[1, 1, 0] = .5\n",
    "E[1, 1, 1] = .5\n",
    "factors['E'] = E\n",
    "\n",
    "F = Factor(('C', 'F'), outcomeSpace)\n",
    "F[0, 0] = .1\n",
    "F[0, 1] = .9\n",
    "F[1, 0] = .4\n",
    "F[1, 1] = .6\n",
    "factors['F'] = F\n",
    "\n",
    "G = Factor(('D', 'E', 'G'), outcomeSpace)\n",
    "G[0, 0, 0] = .15\n",
    "G[0, 0, 1] = .85\n",
    "G[0, 1, 0] = .7\n",
    "G[0, 1, 1] = .3\n",
    "G[1, 0, 0] = .8\n",
    "G[1, 0, 1] = .2\n",
    "G[1, 1, 0] = .25\n",
    "G[1, 1, 1] = .75\n",
    "factors['G'] = G\n",
    "\n",
    "H = Factor(('E', 'H'), outcomeSpace)\n",
    "H[0, 0] = .5\n",
    "H[0, 1] = .5\n",
    "H[1, 0] = .45\n",
    "H[1, 1] = .55\n",
    "factors['H'] = H\n",
    "\n",
    "I = Factor(('G', 'I'), outcomeSpace)\n",
    "I[0, 0] = .6\n",
    "I[0, 1] = .4\n",
    "I[1, 0] = .55\n",
    "I[1, 1] = .45\n",
    "factors['I'] = I\n",
    "    \n",
    "BN = BayesNet(G, outcomeSpace, factors)\n",
    "\n",
    "dataset = [\n",
    "    dict(A=1,B=1,C=0,D=1,E=0,F=1,G=1,H=1,I=1),\n",
    "    dict(A=0,B=1,C=1,D=1,E=1,F=1,G=1,H=0,I=0),\n",
    "    dict(A=1,B=0,C=1,D=0,E=0,F=0,G=0,H=1,I=0),\n",
    "    dict(A=1,B=0,C=0,D=1,E=0,F=0,G=0,H=0,I=1),\n",
    "    dict(A=0,B=1,C=0,D=1,E=0,F=1,G=1,H=1,I=1),\n",
    "    dict(A=0,B=0,C=1,D=1,E=1,F=1,G=0,H=0,I=1),\n",
    "    dict(A=1,B=1,C=1,D=0,E=1,F=0,G=1,H=1,I=0),\n",
    "    dict(A=0,B=1,C=0,D=1,E=1,F=1,G=0,H=0,I=1),\n",
    "    dict(A=0,B=0,C=0,D=0,E=1,F=0,G=1,H=1,I=0),\n",
    "    dict(A=0,B=0,C=0,D=1,E=1,F=0,G=0,H=0,I=0),    \n",
    "]\n",
    "\n",
    "print(LL(BN, dataset))"
   ]
  },
  {
   "cell_type": "markdown",
   "metadata": {},
   "source": [
    "----------\n",
    "### Question 10 [15 marks]"
   ]
  },
  {
   "cell_type": "markdown",
   "metadata": {},
   "source": [
    "In lecture 14, we discussed a simple approach to create a valid jongraph callend the Bethe Graph. In summary, the approach is the following:\n",
    "\n",
    "1. For each factor $\\phi_k$, create a cluster $\\textbf{C}_k$ that represents the variables in $\\phi_k$.\n",
    "2. For each variable $X_i$, create a singleton cluster $\\{X_i\\}$.\n",
    "3. Create an edge $(\\textbf{C}_k,X_i)$ if $X_i \\in \\textbf{C}_k$.\n",
    "\n",
    "Implement a function `Bethe(phi)` that returns a graph object with a Bethe Graph for the factor list $phi$."
   ]
  },
  {
   "cell_type": "code",
   "execution_count": null,
   "metadata": {},
   "outputs": [],
   "source": [
    "# Your answer for Question 10\n",
    "\n",
    "def Bethe(phi):\n",
    "    ... # TODO"
   ]
  },
  {
   "cell_type": "code",
   "execution_count": null,
   "metadata": {},
   "outputs": [],
   "source": [
    "############\n",
    "# Test code\n",
    "\n",
    "outcomeSpace = dict(\n",
    "    A=(0,1),\n",
    "    B=(0,1),\n",
    "    C=(0,1),\n",
    "    D=(0,1),\n",
    "    E=(0,1),\n",
    "    F=(0,1),\n",
    ")\n",
    "\n",
    "phi = dict()\n",
    "\n",
    "phi_1 = Factor(('A', 'B', 'C'), outcomeSpace)\n",
    "phi_1[0, 0, 0] = 1\n",
    "phi_1[0, 0, 1] = 2\n",
    "phi_1[0, 1, 0] = 1\n",
    "phi_1[0, 1, 1] = 3\n",
    "phi_1[1, 0, 0] = 1\n",
    "phi_1[1, 0, 1] = 5\n",
    "phi_1[1, 1, 0] = 1\n",
    "phi_1[1, 1, 1] = 7\n",
    "phi['phi_1'] = phi_1\n",
    "\n",
    "phi_2 = Factor(('B', 'C'), outcomeSpace)\n",
    "phi_2[0, 0] = 7\n",
    "phi_2[0, 1] = 3\n",
    "phi_2[1, 0] = 1\n",
    "phi_2[1, 1] = 9\n",
    "phi['phi_2'] = phi_2\n",
    "\n",
    "phi_3 = Factor(('B', 'D'), outcomeSpace)\n",
    "phi_3[0, 0] = 2\n",
    "phi_3[0, 1] = 1\n",
    "phi_3[1, 0] = 5\n",
    "phi_3[1, 1] = 2\n",
    "phi['phi_3'] = phi_3\n",
    "\n",
    "phi_4 = Factor(('D', 'E'), outcomeSpace)\n",
    "phi_4[0, 0] = 1\n",
    "phi_4[0, 1] = 1\n",
    "phi_4[1, 0] = 2\n",
    "phi_4[1, 1] = 1\n",
    "phi['phi_4'] = phi_4\n",
    "\n",
    "phi_5 = Factor(('B', 'E'), outcomeSpace)\n",
    "phi_5[0, 0] = 10\n",
    "phi_5[0, 1] = 1\n",
    "phi_5[1, 0] = 20\n",
    "phi_5[1, 1] = 5\n",
    "phi['phi_5'] = phi_5\n",
    "\n",
    "phi_6 = Factor(('B', 'D'), outcomeSpace)\n",
    "phi_6[0, 0] = 5\n",
    "phi_6[0, 1] = 10\n",
    "phi_6[1, 0] = 10\n",
    "phi_6[1, 1] = 1\n",
    "phi['phi_6'] = phi_6\n",
    "\n",
    "phi_7 = Factor(('B', 'D', 'F'), outcomeSpace)\n",
    "phi_7[0, 0, 0] = 2\n",
    "phi_7[0, 0, 1] = 1\n",
    "phi_7[0, 1, 0] = 3\n",
    "phi_7[0, 1, 1] = 1\n",
    "phi_7[1, 0, 0] = 2\n",
    "phi_7[1, 0, 1] = 5\n",
    "phi_7[1, 1, 0] = 2\n",
    "phi_7[1, 1, 1] = 7\n",
    "phi['phi_7'] = phi_7\n",
    "\n",
    "G = Bethe(phi)\n",
    "G.show()"
   ]
  }
 ],
 "metadata": {
  "kernelspec": {
   "display_name": "Python 3",
   "language": "python",
   "name": "python3"
  },
  "language_info": {
   "codemirror_mode": {
    "name": "ipython",
    "version": 3
   },
   "file_extension": ".py",
   "mimetype": "text/x-python",
   "name": "python",
   "nbconvert_exporter": "python",
   "pygments_lexer": "ipython3",
   "version": "3.8.3"
  },
  "toc": {
   "colors": {
    "hover_highlight": "#DAA520",
    "navigate_num": "#000000",
    "navigate_text": "#333333",
    "running_highlight": "#FF0000",
    "selected_highlight": "#FFD700",
    "sidebar_border": "#EEEEEE",
    "wrapper_background": "#FFFFFF"
   },
   "moveMenuLeft": true,
   "nav_menu": {
    "height": "198px",
    "width": "252px"
   },
   "navigate_menu": true,
   "number_sections": true,
   "sideBar": true,
   "threshold": 4,
   "toc_cell": false,
   "toc_position": {
    "height": "783px",
    "left": "0px",
    "right": "1346.87px",
    "top": "108px",
    "width": "212px"
   },
   "toc_section_display": "block",
   "toc_window_display": true,
   "widenNotebook": false
  }
 },
 "nbformat": 4,
 "nbformat_minor": 2
}
